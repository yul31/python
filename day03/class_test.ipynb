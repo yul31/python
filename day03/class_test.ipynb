{
 "cells": [
  {
   "cell_type": "code",
   "execution_count": 1,
   "id": "3611da8b",
   "metadata": {},
   "outputs": [],
   "source": [
    "#init함수: 따로 선언하지 않고 class 불러오면 바로 실행됨\n",
    "#global(전역) 변수에게 영향끼치지 않기 위해\n",
    "#local(지역) 변수에 self.로 이름 달아줌\n",
    "\n",
    "class JSS:\n",
    "    def __init__(self):\n",
    "        self.name=input(\"이름을 입력하세요: \")\n",
    "        self.age=input(\"나이를 입력하세요: \")\n",
    "        return print(\"JSS에 오신 것을 환영합니다.\")\n",
    "    def show(self,a=2):\n",
    "        if a==0:\n",
    "            self.result=self.name\n",
    "        elif a==1:\n",
    "            self.result=self.age\n",
    "        else:\n",
    "            self.result=(self.name,self.age)\n",
    "            return self.result"
   ]
  },
  {
   "cell_type": "code",
   "execution_count": 4,
   "id": "b6e7fb22",
   "metadata": {},
   "outputs": [],
   "source": [
    "#JSS class 계승하는 JSS2 class 만들기\n",
    "class JSS2(JSS):\n",
    "    def __init__(self):\n",
    "        super().__init__()\n",
    "        self.gender=input(\"성별을 입력하세요: \")\n",
    "        \n",
    "    def show2(self,a=3):\n",
    "        if a==0:\n",
    "            self.result=self.name\n",
    "        elif a==1:\n",
    "            self.result=self.age\n",
    "        elif a==2:\n",
    "            self.result=self.gender\n",
    "        else:\n",
    "            self.result=(self.name,self.age,self.gender)\n",
    "            return self.result"
   ]
  },
  {
   "cell_type": "code",
   "execution_count": null,
   "id": "d88c49a6",
   "metadata": {},
   "outputs": [],
   "source": []
  }
 ],
 "metadata": {
  "kernelspec": {
   "display_name": "Python 3 (ipykernel)",
   "language": "python",
   "name": "python3"
  },
  "language_info": {
   "codemirror_mode": {
    "name": "ipython",
    "version": 3
   },
   "file_extension": ".py",
   "mimetype": "text/x-python",
   "name": "python",
   "nbconvert_exporter": "python",
   "pygments_lexer": "ipython3",
   "version": "3.9.12"
  }
 },
 "nbformat": 4,
 "nbformat_minor": 5
}
