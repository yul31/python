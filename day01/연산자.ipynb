{
 "cells": [
  {
   "cell_type": "code",
   "execution_count": 1,
   "id": "095baa35",
   "metadata": {},
   "outputs": [
    {
     "data": {
      "text/plain": [
       "str"
      ]
     },
     "execution_count": 1,
     "metadata": {},
     "output_type": "execute_result"
    }
   ],
   "source": [
    "# \"\"는 문자\n",
    "num=\"7\"\n",
    "type(num)"
   ]
  },
  {
   "cell_type": "code",
   "execution_count": 2,
   "id": "983c9145",
   "metadata": {},
   "outputs": [
    {
     "data": {
      "text/plain": [
       "17.0"
      ]
     },
     "execution_count": 2,
     "metadata": {},
     "output_type": "execute_result"
    }
   ],
   "source": [
    "#int(),float()=숫자로 변경\n",
    "7+float(\"10\")"
   ]
  },
  {
   "cell_type": "code",
   "execution_count": 1,
   "id": "d873ac2d",
   "metadata": {},
   "outputs": [
    {
     "name": "stdout",
     "output_type": "stream",
     "text": [
      "정수를 입력하세요: 7\n"
     ]
    }
   ],
   "source": [
    "#input()=입력받기\n",
    "num=int(input(\"정수를 입력하세요: \"))"
   ]
  },
  {
   "cell_type": "code",
   "execution_count": null,
   "id": "2c87c966",
   "metadata": {},
   "outputs": [],
   "source": [
    "num1=float(input(\"숫자를 입력하세요: \"))\n",
    "num2=float(input(\"숫자를 입력하세요: \"))\n",
    "print(num1+num2)\n",
    "print(num1-num2)\n",
    "print(num1*num2)\n",
    "print(num1/num2)"
   ]
  },
  {
   "cell_type": "code",
   "execution_count": null,
   "id": "8d684224",
   "metadata": {},
   "outputs": [],
   "source": [
    "#문자끼리 계산\n",
    "str1=\"처음\"\n",
    "str2=\"처럼\"\n",
    "str1+str2"
   ]
  },
  {
   "cell_type": "code",
   "execution_count": null,
   "id": "668e4767",
   "metadata": {},
   "outputs": [],
   "source": [
    "#숫자+문자->숫자를 문자로 변경\n",
    "num1=12\n",
    "str3=\"시\"\n",
    "\n",
    "str(num1)+str3"
   ]
  },
  {
   "cell_type": "code",
   "execution_count": null,
   "id": "da7ccd46",
   "metadata": {},
   "outputs": [],
   "source": [
    "#숫자*문자->문자를 숫자 횟수만큼\n",
    "num1*str3"
   ]
  },
  {
   "cell_type": "code",
   "execution_count": null,
   "id": "8603afa0",
   "metadata": {},
   "outputs": [],
   "source": [
    "# **(곱하기 2번): 지수\n",
    "2**3"
   ]
  },
  {
   "cell_type": "code",
   "execution_count": null,
   "id": "111d7991",
   "metadata": {},
   "outputs": [],
   "source": [
    "a=7\n",
    "print(a)\n",
    "a=a+2\n",
    "print(a)"
   ]
  },
  {
   "cell_type": "code",
   "execution_count": null,
   "id": "9a98bc7e",
   "metadata": {},
   "outputs": [],
   "source": [
    "# +=,-=,*=,/=,**= 모두 가능\n",
    "a=7\n",
    "a+=2\n",
    "a"
   ]
  },
  {
   "cell_type": "code",
   "execution_count": null,
   "id": "05950dfa",
   "metadata": {},
   "outputs": [],
   "source": [
    "a=7\n",
    "a**=2\n",
    "a"
   ]
  },
  {
   "cell_type": "code",
   "execution_count": null,
   "id": "e4b1fcd2",
   "metadata": {},
   "outputs": [],
   "source": [
    "a=5\n",
    "b=7\n",
    "\n",
    "a,b=b,a\n",
    "print(a,b)"
   ]
  },
  {
   "cell_type": "code",
   "execution_count": 2,
   "id": "6c573e3c",
   "metadata": {},
   "outputs": [
    {
     "name": "stdout",
     "output_type": "stream",
     "text": [
      "국어 점수를 입력하세요: 80\n",
      "수학 점수를 입력하세요: 75\n",
      "영어 점수를 입력하세요: 60\n",
      "71.66666666666667\n"
     ]
    }
   ],
   "source": [
    "korean=int(input(\"국어 점수를 입력하세요: \"))\n",
    "math=int(input(\"수학 점수를 입력하세요: \"))\n",
    "english=int(input(\"영어 점수를 입력하세요: \"))\n",
    "print((korean+math+english)/3)"
   ]
  },
  {
   "cell_type": "code",
   "execution_count": 3,
   "id": "1645276d",
   "metadata": {},
   "outputs": [
    {
     "data": {
      "text/plain": [
       "False"
      ]
     },
     "execution_count": 3,
     "metadata": {},
     "output_type": "execute_result"
    }
   ],
   "source": [
    "#not 참인명제: 여집합 출력\n",
    "not 1 + 1 == 2"
   ]
  },
  {
   "cell_type": "code",
   "execution_count": 4,
   "id": "96866d4c",
   "metadata": {},
   "outputs": [
    {
     "data": {
      "text/plain": [
       "False"
      ]
     },
     "execution_count": 4,
     "metadata": {},
     "output_type": "execute_result"
    }
   ],
   "source": [
    "#and,or\n",
    "#not은 전체수식하지x, 바로 뒷 명제만 수식\n",
    "not 1+1==2 and 2+2==4"
   ]
  },
  {
   "cell_type": "code",
   "execution_count": 5,
   "id": "ae78d289",
   "metadata": {},
   "outputs": [
    {
     "name": "stdout",
     "output_type": "stream",
     "text": [
      "합격\n"
     ]
    }
   ],
   "source": [
    "#80점 초과이면 합격, 이하이면 불합격\n",
    "score=90\n",
    "print(\"합격\") if score>80 else print(\"불합격\")"
   ]
  },
  {
   "cell_type": "code",
   "execution_count": 7,
   "id": "6f14cb49",
   "metadata": {},
   "outputs": [
    {
     "name": "stdout",
     "output_type": "stream",
     "text": [
      "정수를 입력하세요: 56\n",
      "7의 배수입니다\n"
     ]
    }
   ],
   "source": [
    "a=int(input(\"정수를 입력하세요: \"))\n",
    "print(\"7의 배수입니다\") if a%7==0 else print(\"그 외\")"
   ]
  },
  {
   "cell_type": "code",
   "execution_count": 15,
   "id": "37af24ec",
   "metadata": {},
   "outputs": [
    {
     "data": {
      "text/plain": [
       "3"
      ]
     },
     "execution_count": 15,
     "metadata": {},
     "output_type": "execute_result"
    }
   ],
   "source": [
    "True+2"
   ]
  },
  {
   "cell_type": "code",
   "execution_count": 13,
   "id": "85b4c13f",
   "metadata": {},
   "outputs": [
    {
     "data": {
      "text/plain": [
       "True"
      ]
     },
     "execution_count": 13,
     "metadata": {},
     "output_type": "execute_result"
    }
   ],
   "source": [
    "False==0"
   ]
  },
  {
   "cell_type": "code",
   "execution_count": null,
   "id": "a62b6b13",
   "metadata": {},
   "outputs": [],
   "source": []
  }
 ],
 "metadata": {
  "kernelspec": {
   "display_name": "Python 3 (ipykernel)",
   "language": "python",
   "name": "python3"
  },
  "language_info": {
   "codemirror_mode": {
    "name": "ipython",
    "version": 3
   },
   "file_extension": ".py",
   "mimetype": "text/x-python",
   "name": "python",
   "nbconvert_exporter": "python",
   "pygments_lexer": "ipython3",
   "version": "3.9.12"
  }
 },
 "nbformat": 4,
 "nbformat_minor": 5
}
