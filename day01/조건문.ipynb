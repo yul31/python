{
 "cells": [
  {
   "cell_type": "code",
   "execution_count": 2,
   "id": "b861e9d1",
   "metadata": {},
   "outputs": [
    {
     "name": "stdout",
     "output_type": "stream",
     "text": [
      "정수를 입력하세요: 14\n",
      "7의 배수입니다.\n"
     ]
    }
   ],
   "source": [
    "#if,else문-if와 else는 같은 블럭에 위치해야 함(if 조건문 안에 있으면 안됨)\n",
    "a=int(input(\"정수를 입력하세요: \"))\n",
    "if a%7==0:\n",
    "    print(\"7의 배수입니다.\")\n",
    "else:\n",
    "    print(\"그 외\")"
   ]
  },
  {
   "cell_type": "markdown",
   "id": "5bb3687e",
   "metadata": {},
   "source": [
    "- 내가 갖고있는 돈을 input으로 받는다.\n",
    "- 내가 가진 돈이 1250원 이상이면 버스를 타고, 그 외에는 걸어서 갑시다.\n",
    "- print(\"버스를 탄다.\") or print(\"걸어서 간다.\")"
   ]
  },
  {
   "cell_type": "code",
   "execution_count": 14,
   "id": "9ce728e7",
   "metadata": {},
   "outputs": [
    {
     "name": "stdout",
     "output_type": "stream",
     "text": [
      "내가 갖고있는 돈: 6000\n",
      "버스를 탄다.\n"
     ]
    }
   ],
   "source": [
    "money=int(input(\"내가 갖고있는 돈: \"))\n",
    "if money>=1250:\n",
    "    print(\"버스를 탄다.\")\n",
    "else:\n",
    "    print(\"걸어서 간다.\")"
   ]
  },
  {
   "cell_type": "markdown",
   "id": "c98426fe",
   "metadata": {},
   "source": [
    "- 추석 선물 세트가 10,000원입니다.\n",
    "- input으로 몇개를 구매할지 받으시고 지불할 돈을 출력합니다.\n",
    "- 10개 이상 사면, 11개째부터 10%할인됩니다."
   ]
  },
  {
   "cell_type": "code",
   "execution_count": 43,
   "id": "a7531e0d",
   "metadata": {},
   "outputs": [
    {
     "name": "stdout",
     "output_type": "stream",
     "text": [
      "추석 선물 세트 개수: 11\n",
      "109000원입니다.\n"
     ]
    }
   ],
   "source": [
    "present=10000\n",
    "num_present=int(input(\"추석 선물 세트 개수: \"))\n",
    "if num_present<11:\n",
    "    print(\"{}원입니다.\".format(present*num_present))\n",
    "else:\n",
    "    print(\"{}원입니다.\".format(int(100000+(present*0.9)*(num_present-10))))"
   ]
  },
  {
   "cell_type": "code",
   "execution_count": 28,
   "id": "0ecbd080",
   "metadata": {},
   "outputs": [
    {
     "name": "stdout",
     "output_type": "stream",
     "text": [
      "3\n"
     ]
    }
   ],
   "source": [
    "a=7\n",
    "\n",
    "if a==1:\n",
    "    print(1)\n",
    "if a==2:\n",
    "    print(2)\n",
    "else:\n",
    "    print(3)"
   ]
  },
  {
   "cell_type": "code",
   "execution_count": 37,
   "id": "1cedf47a",
   "metadata": {},
   "outputs": [
    {
     "name": "stdout",
     "output_type": "stream",
     "text": [
      "내가 가진 돈의 액수: 400\n",
      "걸어서 간다.\n"
     ]
    }
   ],
   "source": [
    "#if,elif,else문\n",
    "money=int(input(\"내가 가진 돈의 액수: \"))\n",
    "if money>=3900:\n",
    "    print(\"택시를 탄다.\")\n",
    "elif money<1250:\n",
    "    print(\"걸어서 간다.\")\n",
    "else:\n",
    "    print(\"버스를 탄다.\")"
   ]
  },
  {
   "cell_type": "code",
   "execution_count": 46,
   "id": "eb6da2c4",
   "metadata": {},
   "outputs": [
    {
     "name": "stdout",
     "output_type": "stream",
     "text": [
      "내가 가진 돈의 액수: 1000\n",
      "걸어서 간다.\n"
     ]
    }
   ],
   "source": [
    "#and,or 사용\n",
    "money=int(input(\"내가 가진 돈의 액수: \"))\n",
    "if money>=3900:\n",
    "    print(\"택시를 탄다.\")\n",
    "elif (money>=1250) and (money<3900):\n",
    "    print(\"버스를 탄다.\")\n",
    "else:\n",
    "    print(\"걸어서 간다.\")"
   ]
  },
  {
   "cell_type": "markdown",
   "id": "2dc4a158",
   "metadata": {},
   "source": [
    "- 대학의 점수 체계\n",
    "    - 95점 이상: A+\n",
    "    - 90점 이상: A0\n",
    "    - 85점 이상: B+\n",
    "    - 80점 이상: B0\n",
    "    - 75점 이상: C+\n",
    "    - 그 외: 재수강"
   ]
  },
  {
   "cell_type": "code",
   "execution_count": 66,
   "id": "5cd589c6",
   "metadata": {},
   "outputs": [
    {
     "name": "stdout",
     "output_type": "stream",
     "text": [
      "점수를 입력하세요: 93\n",
      "A0\n"
     ]
    }
   ],
   "source": [
    "score=int(input(\"점수를 입력하세요: \"))\n",
    "if score>=95:\n",
    "    print(\"A+\")\n",
    "elif score>=90:\n",
    "    print(\"A0\")\n",
    "elif score>=85:\n",
    "    print(\"B+\")\n",
    "elif score>=80:\n",
    "    print(\"B0\")\n",
    "elif score>=75:\n",
    "    print(\"C+\")\n",
    "else:\n",
    "    print(\"재수강\")"
   ]
  },
  {
   "cell_type": "code",
   "execution_count": 68,
   "id": "b08d1e4a",
   "metadata": {},
   "outputs": [
    {
     "name": "stdout",
     "output_type": "stream",
     "text": [
      "점수를 입력하세요: 82\n",
      "B0\n"
     ]
    }
   ],
   "source": [
    "#같은 문제 거꾸로 조건문 만들어봄\n",
    "score=int(input(\"점수를 입력하세요: \"))\n",
    "if score<75:\n",
    "    print(\"재수강\")\n",
    "elif score<80:\n",
    "    print(\"C+\")\n",
    "elif score<85:\n",
    "    print(\"B0\")\n",
    "elif score<90:\n",
    "    print(\"B+\")\n",
    "elif score<95:\n",
    "    print(\"A0\")\n",
    "else:\n",
    "    print(\"A+\")"
   ]
  },
  {
   "cell_type": "code",
   "execution_count": 61,
   "id": "8ef22bf3",
   "metadata": {},
   "outputs": [],
   "source": [
    "import random"
   ]
  },
  {
   "cell_type": "code",
   "execution_count": 63,
   "id": "1f00fa1d",
   "metadata": {},
   "outputs": [
    {
     "data": {
      "text/plain": [
       "0.9286268852648097"
      ]
     },
     "execution_count": 63,
     "metadata": {},
     "output_type": "execute_result"
    }
   ],
   "source": [
    "#0~1 사이의 랜덤한 실수 출력\n",
    "random.random()"
   ]
  },
  {
   "cell_type": "code",
   "execution_count": 65,
   "id": "1bb42386",
   "metadata": {},
   "outputs": [
    {
     "data": {
      "text/plain": [
       "4"
      ]
     },
     "execution_count": 65,
     "metadata": {},
     "output_type": "execute_result"
    }
   ],
   "source": [
    "#1이상 7미만의 정수 랜덤 출력\n",
    "random.randrange(1,7)"
   ]
  },
  {
   "cell_type": "code",
   "execution_count": 74,
   "id": "b6360da9",
   "metadata": {},
   "outputs": [
    {
     "data": {
      "text/plain": [
       "3.0202166805291215"
      ]
     },
     "execution_count": 74,
     "metadata": {},
     "output_type": "execute_result"
    }
   ],
   "source": [
    "#0~7 사이의 랜덤한 실수 출력\n",
    "random.random()*6+1"
   ]
  },
  {
   "cell_type": "markdown",
   "id": "07d7a964",
   "metadata": {},
   "source": [
    "# 가위바위보 게임 만들기"
   ]
  },
  {
   "cell_type": "markdown",
   "id": "958fea77",
   "metadata": {},
   "source": [
    "- 플레이어에게 가위, 바위, 보 중 하나를 입력받습니다.\n",
    "- 컴퓨터는 똑같은 확률로 가위, 바위, 보 중 하나를 냅니다.\n",
    "- 출력값 예시: 당신은 가위, 컴퓨터는 보를 냈습니다. 당신이 이겼습니다.\n",
    "- 플레이어가 가위, 바위, 보 외의 입력을 할 경우 프로그램을 종료합니다."
   ]
  },
  {
   "cell_type": "code",
   "execution_count": 2,
   "id": "173bf7db",
   "metadata": {},
   "outputs": [
    {
     "name": "stdout",
     "output_type": "stream",
     "text": [
      "가위, 바위, 보 중 하나를 입력하세요: 가위\n",
      "이겼습니다\n"
     ]
    }
   ],
   "source": [
    "import random\n",
    "choices=[\"가위\",\"바위\",\"보\"]\n",
    "com=random.choice(choices)\n",
    "player=str(input(\"가위, 바위, 보 중 하나를 입력하세요: \"))\n",
    "if player == \"가위\":\n",
    "    if com == \"가위\":\n",
    "        print(\"비겼습니다\")\n",
    "    elif com == \"바위\":\n",
    "        print(\"졌습니다.\")\n",
    "    elif com == \"보\":\n",
    "        print(\"이겼습니다\")\n",
    "elif player == \"바위\":\n",
    "    if com == \"바위\":\n",
    "        print(\"비겼습니다\")\n",
    "    elif com == \"보\":\n",
    "        print(\"졌습니다.\")\n",
    "    elif com == \"가위\":\n",
    "        print(\"이겼습니다\")\n",
    "elif player == \"보\":\n",
    "    if com == \"보\":\n",
    "        print(\"비겼습니다\")\n",
    "    elif com == \"가위\":\n",
    "        print(\"졌습니다.\")\n",
    "    elif com == \"바위\":\n",
    "        print(\"이겼습니다\")\n",
    "else:\n",
    "    print(\"프로그램을 종료합니다.\")"
   ]
  },
  {
   "cell_type": "markdown",
   "id": "b31c0465",
   "metadata": {},
   "source": [
    "# 아이템 강화 시스템"
   ]
  },
  {
   "cell_type": "markdown",
   "id": "64adfa7d",
   "metadata": {},
   "source": [
    "- 입력: 현재 강화 정도(10강 이하)\n",
    "- 성공 확률: 기본 80% 1강이 올라갈 때마다 5%씩 떨어짐\n",
    "- 강화 실패 시: 70% 확률로 강화 상태 유지, 15% 확률로 강화 등급 하락, 15% 확률로 아이템 파괴\n",
    "- 출력 예시: 강화 성공 n강으로 올라갔다. 혹은 강화 실패해서 n강이 되었다/파괴되었다."
   ]
  },
  {
   "cell_type": "code",
   "execution_count": 22,
   "id": "c754d466",
   "metadata": {},
   "outputs": [
    {
     "name": "stdout",
     "output_type": "stream",
     "text": [
      "아이템 현재 강화 정도: 6\n",
      "강화 가능합니다.\n"
     ]
    }
   ],
   "source": [
    "import random\n",
    "item=int(input(\"아이템의 현재 강화 정도: \"))\n",
    "if item>10:\n",
    "    print(\"강화할 수 없습니다.\")\n",
    "else:\n",
    "    print(\"현재 강화 정도:{0}강\".format(item))\n",
    "    win=random.random()*100\n",
    "    if win<=80-5*item:\n",
    "        print(\"강화 성공\")\n",
    "        print(\"현재 강화 정도:{}강\".format(item))\n",
    "    elif success>=16-item:\n",
    "        print(\"강화 실패\")\n",
    "        if 0.\n",
    "        "
   ]
  },
  {
   "cell_type": "markdown",
   "id": "a1d0501b",
   "metadata": {},
   "source": [
    "- 입력: 주식의 현재 가격(10만원 이하 만원 단위)\n",
    "- 주식이 오를 확률은 0원일 때 1만원이 될 확률 80%, 1만원일 때 2만원이 될 확률 75:...1만원이 올라갈 때마다 5%씩 떨어집니다.\n",
    "- 만약 주식 가격이 오르지 않았을 경우, 70% 확률로 현상 유지, 15%확률로 1만원이 떨어지고, 15% 확률로 상장 폐지"
   ]
  },
  {
   "cell_type": "code",
   "execution_count": null,
   "id": "7d5c0ef4",
   "metadata": {},
   "outputs": [],
   "source": []
  }
 ],
 "metadata": {
  "kernelspec": {
   "display_name": "Python 3 (ipykernel)",
   "language": "python",
   "name": "python3"
  },
  "language_info": {
   "codemirror_mode": {
    "name": "ipython",
    "version": 3
   },
   "file_extension": ".py",
   "mimetype": "text/x-python",
   "name": "python",
   "nbconvert_exporter": "python",
   "pygments_lexer": "ipython3",
   "version": "3.9.12"
  }
 },
 "nbformat": 4,
 "nbformat_minor": 5
}
