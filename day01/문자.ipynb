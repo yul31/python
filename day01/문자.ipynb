{
 "cells": [
  {
   "cell_type": "code",
   "execution_count": 1,
   "id": "6ac30097",
   "metadata": {},
   "outputs": [
    {
     "data": {
      "text/plain": [
       "2"
      ]
     },
     "execution_count": 1,
     "metadata": {},
     "output_type": "execute_result"
    }
   ],
   "source": [
    "1+1"
   ]
  },
  {
   "cell_type": "code",
   "execution_count": 4,
   "id": "41e5d4e0",
   "metadata": {},
   "outputs": [
    {
     "name": "stdout",
     "output_type": "stream",
     "text": [
      "2\n",
      "3\n"
     ]
    }
   ],
   "source": [
    "print(1+1)\n",
    "print(1+2)"
   ]
  },
  {
   "cell_type": "code",
   "execution_count": 5,
   "id": "465b871e",
   "metadata": {},
   "outputs": [
    {
     "name": "stdout",
     "output_type": "stream",
     "text": [
      "3\n"
     ]
    }
   ],
   "source": [
    "num=3\n",
    "print(num)"
   ]
  },
  {
   "cell_type": "code",
   "execution_count": 6,
   "id": "a9f73dbb",
   "metadata": {},
   "outputs": [
    {
     "name": "stdout",
     "output_type": "stream",
     "text": [
      "5\n"
     ]
    }
   ],
   "source": [
    "num=5\n",
    "print(num)"
   ]
  },
  {
   "cell_type": "code",
   "execution_count": 7,
   "id": "da8e5aa5",
   "metadata": {},
   "outputs": [
    {
     "name": "stdout",
     "output_type": "stream",
     "text": [
      "13\n"
     ]
    }
   ],
   "source": [
    "num1=13\n",
    "print(num1)"
   ]
  },
  {
   "cell_type": "code",
   "execution_count": 8,
   "id": "edc1902d",
   "metadata": {},
   "outputs": [
    {
     "name": "stdout",
     "output_type": "stream",
     "text": [
      "25\n"
     ]
    }
   ],
   "source": [
    "num2=25\n",
    "print(num2)"
   ]
  },
  {
   "cell_type": "code",
   "execution_count": 9,
   "id": "e0f04a95",
   "metadata": {},
   "outputs": [
    {
     "name": "stdout",
     "output_type": "stream",
     "text": [
      "77\n"
     ]
    }
   ],
   "source": [
    "num2=77\n",
    "print(num2)"
   ]
  },
  {
   "cell_type": "code",
   "execution_count": 10,
   "id": "d096f890",
   "metadata": {},
   "outputs": [
    {
     "name": "stdout",
     "output_type": "stream",
     "text": [
      "13 77\n"
     ]
    }
   ],
   "source": [
    "print(num1, num2)"
   ]
  },
  {
   "cell_type": "code",
   "execution_count": 12,
   "id": "027c3cc3",
   "metadata": {},
   "outputs": [
    {
     "name": "stdout",
     "output_type": "stream",
     "text": [
      "3.1425\n"
     ]
    }
   ],
   "source": [
    "num3=3.1425\n",
    "print(num3)"
   ]
  },
  {
   "cell_type": "code",
   "execution_count": 13,
   "id": "e52c15cb",
   "metadata": {},
   "outputs": [
    {
     "name": "stdout",
     "output_type": "stream",
     "text": [
      "1.25\n"
     ]
    }
   ],
   "source": [
    "num4=1.25\n",
    "print(num4)"
   ]
  },
  {
   "cell_type": "code",
   "execution_count": 14,
   "id": "a9535417",
   "metadata": {},
   "outputs": [
    {
     "name": "stdout",
     "output_type": "stream",
     "text": [
      "3.0\n"
     ]
    }
   ],
   "source": [
    "num5=3.0\n",
    "print(num5)"
   ]
  },
  {
   "cell_type": "code",
   "execution_count": 15,
   "id": "0cfe5a6a",
   "metadata": {},
   "outputs": [
    {
     "data": {
      "text/plain": [
       "int"
      ]
     },
     "execution_count": 15,
     "metadata": {},
     "output_type": "execute_result"
    }
   ],
   "source": [
    "type(num1)"
   ]
  },
  {
   "cell_type": "code",
   "execution_count": 16,
   "id": "25d8c441",
   "metadata": {},
   "outputs": [
    {
     "data": {
      "text/plain": [
       "float"
      ]
     },
     "execution_count": 16,
     "metadata": {},
     "output_type": "execute_result"
    }
   ],
   "source": [
    "type(num5)"
   ]
  },
  {
   "cell_type": "code",
   "execution_count": 18,
   "id": "2fcfb191",
   "metadata": {},
   "outputs": [
    {
     "data": {
      "text/plain": [
       "3"
      ]
     },
     "execution_count": 18,
     "metadata": {},
     "output_type": "execute_result"
    }
   ],
   "source": [
    "num6=3\n",
    "num6"
   ]
  },
  {
   "cell_type": "code",
   "execution_count": 19,
   "id": "fc0e9747",
   "metadata": {},
   "outputs": [
    {
     "data": {
      "text/plain": [
       "True"
      ]
     },
     "execution_count": 19,
     "metadata": {},
     "output_type": "execute_result"
    }
   ],
   "source": [
    "num6==num5"
   ]
  },
  {
   "cell_type": "code",
   "execution_count": 20,
   "id": "d3a3f287",
   "metadata": {},
   "outputs": [
    {
     "data": {
      "text/plain": [
       "False"
      ]
     },
     "execution_count": 20,
     "metadata": {},
     "output_type": "execute_result"
    }
   ],
   "source": [
    "type(num5)==type(num6)"
   ]
  },
  {
   "cell_type": "code",
   "execution_count": 21,
   "id": "bac5531c",
   "metadata": {},
   "outputs": [
    {
     "name": "stdout",
     "output_type": "stream",
     "text": [
      "Hello Python\n"
     ]
    }
   ],
   "source": [
    "string='Hello Python'\n",
    "print(string)"
   ]
  },
  {
   "cell_type": "code",
   "execution_count": 22,
   "id": "b8ac2510",
   "metadata": {},
   "outputs": [
    {
     "data": {
      "text/plain": [
       "str"
      ]
     },
     "execution_count": 22,
     "metadata": {},
     "output_type": "execute_result"
    }
   ],
   "source": [
    "type(string)"
   ]
  },
  {
   "cell_type": "code",
   "execution_count": 27,
   "id": "47eda1e5",
   "metadata": {},
   "outputs": [
    {
     "data": {
      "text/plain": [
       "\"this is Jane's appple\""
      ]
     },
     "execution_count": 27,
     "metadata": {},
     "output_type": "execute_result"
    }
   ],
   "source": [
    "#'this is Jane's appple'\n",
    "'this is Jane\\'s appple'"
   ]
  },
  {
   "cell_type": "code",
   "execution_count": 25,
   "id": "75c4fd3b",
   "metadata": {},
   "outputs": [
    {
     "name": "stdout",
     "output_type": "stream",
     "text": [
      "Funny python Easy python\n"
     ]
    }
   ],
   "source": [
    "str1=\"Funny python\"\n",
    "str2='Easy python'\n",
    "print(str1,str2)"
   ]
  },
  {
   "cell_type": "code",
   "execution_count": 28,
   "id": "2794d552",
   "metadata": {},
   "outputs": [
    {
     "name": "stdout",
     "output_type": "stream",
     "text": [
      "1\n"
     ]
    }
   ],
   "source": [
    "num_1=1\n",
    "print(num_1)"
   ]
  },
  {
   "cell_type": "code",
   "execution_count": 29,
   "id": "70fc40fe",
   "metadata": {},
   "outputs": [
    {
     "ename": "SyntaxError",
     "evalue": "invalid syntax (4101789396.py, line 1)",
     "output_type": "error",
     "traceback": [
      "\u001b[1;36m  Input \u001b[1;32mIn [29]\u001b[1;36m\u001b[0m\n\u001b[1;33m    num!1=1\u001b[0m\n\u001b[1;37m       ^\u001b[0m\n\u001b[1;31mSyntaxError\u001b[0m\u001b[1;31m:\u001b[0m invalid syntax\n"
     ]
    }
   ],
   "source": [
    "num!1=1\n",
    "print(num!1)"
   ]
  },
  {
   "cell_type": "code",
   "execution_count": 30,
   "id": "a70ef071",
   "metadata": {},
   "outputs": [
    {
     "ename": "SyntaxError",
     "evalue": "invalid syntax (3212355473.py, line 1)",
     "output_type": "error",
     "traceback": [
      "\u001b[1;36m  Input \u001b[1;32mIn [30]\u001b[1;36m\u001b[0m\n\u001b[1;33m    1a=1\u001b[0m\n\u001b[1;37m     ^\u001b[0m\n\u001b[1;31mSyntaxError\u001b[0m\u001b[1;31m:\u001b[0m invalid syntax\n"
     ]
    }
   ],
   "source": [
    "1a=1\n",
    "print(1a)"
   ]
  },
  {
   "cell_type": "code",
   "execution_count": 32,
   "id": "b8feafc4",
   "metadata": {},
   "outputs": [
    {
     "name": "stdout",
     "output_type": "stream",
     "text": [
      "10 15\n"
     ]
    }
   ],
   "source": [
    "a,b=10,15\n",
    "print(a,b)"
   ]
  },
  {
   "cell_type": "code",
   "execution_count": 33,
   "id": "c27f67b9",
   "metadata": {},
   "outputs": [
    {
     "name": "stdout",
     "output_type": "stream",
     "text": [
      "10 10\n"
     ]
    }
   ],
   "source": [
    "a=b=10\n",
    "print(a,b)"
   ]
  },
  {
   "cell_type": "markdown",
   "id": "c8b7689a",
   "metadata": {},
   "source": [
    "- x에 100을 대입하고, y에 200을 대입한 뒤, summation에 x와 y의 합을 대입해주세요."
   ]
  },
  {
   "cell_type": "code",
   "execution_count": 37,
   "id": "c4fb11ee",
   "metadata": {},
   "outputs": [
    {
     "data": {
      "text/plain": [
       "300"
      ]
     },
     "execution_count": 37,
     "metadata": {},
     "output_type": "execute_result"
    }
   ],
   "source": [
    "x=100\n",
    "y=200\n",
    "summation=x+y\n",
    "summation"
   ]
  },
  {
   "cell_type": "code",
   "execution_count": 38,
   "id": "254f0e68",
   "metadata": {},
   "outputs": [
    {
     "data": {
      "text/plain": [
       "300"
      ]
     },
     "execution_count": 38,
     "metadata": {},
     "output_type": "execute_result"
    }
   ],
   "source": [
    "x=200\n",
    "summation"
   ]
  },
  {
   "cell_type": "code",
   "execution_count": 40,
   "id": "44ec2ca2",
   "metadata": {},
   "outputs": [
    {
     "name": "stdout",
     "output_type": "stream",
     "text": [
      "Hello\n",
      "Python\n"
     ]
    }
   ],
   "source": [
    "a=\"Hello\\nPython\"\n",
    "print(a)"
   ]
  },
  {
   "cell_type": "code",
   "execution_count": 42,
   "id": "05a7ce40",
   "metadata": {},
   "outputs": [
    {
     "data": {
      "text/plain": [
       "'Y'"
      ]
     },
     "execution_count": 42,
     "metadata": {},
     "output_type": "execute_result"
    }
   ],
   "source": [
    "name=\"My name is YH\"\n",
    "name[-2]"
   ]
  },
  {
   "cell_type": "code",
   "execution_count": 43,
   "id": "e143f4e1",
   "metadata": {},
   "outputs": [
    {
     "data": {
      "text/plain": [
       "'M'"
      ]
     },
     "execution_count": 43,
     "metadata": {},
     "output_type": "execute_result"
    }
   ],
   "source": [
    "name[0:1]"
   ]
  },
  {
   "cell_type": "code",
   "execution_count": 44,
   "id": "49184ab7",
   "metadata": {},
   "outputs": [
    {
     "data": {
      "text/plain": [
       "'My'"
      ]
     },
     "execution_count": 44,
     "metadata": {},
     "output_type": "execute_result"
    }
   ],
   "source": [
    "name[0:2]"
   ]
  },
  {
   "cell_type": "code",
   "execution_count": 51,
   "id": "36923d7d",
   "metadata": {},
   "outputs": [
    {
     "data": {
      "text/plain": [
       "'M aei H'"
      ]
     },
     "execution_count": 51,
     "metadata": {},
     "output_type": "execute_result"
    }
   ],
   "source": [
    "name[::2]"
   ]
  },
  {
   "cell_type": "code",
   "execution_count": 52,
   "id": "ae350471",
   "metadata": {},
   "outputs": [
    {
     "data": {
      "text/plain": [
       "'2022.07.22 - 12:07:48'"
      ]
     },
     "execution_count": 52,
     "metadata": {},
     "output_type": "execute_result"
    }
   ],
   "source": [
    "import time\n",
    "now=time.strftime('%Y.%m.%d - %H:%M:%S')\n",
    "now"
   ]
  },
  {
   "cell_type": "code",
   "execution_count": 53,
   "id": "8e3d1163",
   "metadata": {},
   "outputs": [
    {
     "data": {
      "text/plain": [
       "str"
      ]
     },
     "execution_count": 53,
     "metadata": {},
     "output_type": "execute_result"
    }
   ],
   "source": [
    "type(now)"
   ]
  },
  {
   "cell_type": "markdown",
   "id": "8c8c61de",
   "metadata": {},
   "source": [
    "- 연도:2022\n",
    "- 월일:0722\n",
    "- 시각:12시\n",
    "- 분초:0748"
   ]
  },
  {
   "cell_type": "code",
   "execution_count": 73,
   "id": "1782fd8b",
   "metadata": {},
   "outputs": [
    {
     "name": "stdout",
     "output_type": "stream",
     "text": [
      " 연도: 2022 \n",
      " 월일: 0722 \n",
      " 시각: 12시 \n",
      " 분초: 07:48\n"
     ]
    }
   ],
   "source": [
    "year=now[:4]\n",
    "month=now[5:7]+now[8:10]\n",
    "clock=now[13:15]+\"시\"\n",
    "minute=now[16:21]\n",
    "print(\" 연도:\",year,\"\\n\",\"월일:\",month,\"\\n\",\"시각:\",clock,\"\\n\",\"분초:\",minute)"
   ]
  },
  {
   "cell_type": "code",
   "execution_count": 101,
   "id": "fb661a8b",
   "metadata": {},
   "outputs": [],
   "source": [
    "yd_info = \"20220722Sunny\"\n",
    "# yd_info2=\"20220723Cloudy\"\n",
    "# yd_info3=\"20220724Fog\""
   ]
  },
  {
   "cell_type": "code",
   "execution_count": 102,
   "id": "cc84420a",
   "metadata": {},
   "outputs": [
    {
     "name": "stdout",
     "output_type": "stream",
     "text": [
      "2022 0722 Sunny\n"
     ]
    }
   ],
   "source": [
    "a = yd_info[:4]\n",
    "b = yd_info[4:8]\n",
    "c = yd_info[8:]\n",
    "print(a, b, c)"
   ]
  },
  {
   "cell_type": "markdown",
   "id": "182774d4",
   "metadata": {},
   "source": [
    "# 포맷팅(Formatting)\n",
    "\n",
    "- %를 사용하는 방법\n",
    "- format함수를 사용하는 방법"
   ]
  },
  {
   "cell_type": "code",
   "execution_count": 88,
   "id": "72071d12",
   "metadata": {},
   "outputs": [
    {
     "data": {
      "text/plain": [
       "'오늘 메뉴는 김치볶음밥과 우동입니다.'"
      ]
     },
     "execution_count": 88,
     "metadata": {},
     "output_type": "execute_result"
    }
   ],
   "source": [
    "# %를 사용하는 방식 (%s:문자,%d:숫자)\n",
    "menu1 = \"김치볶음밥\"\n",
    "menu2 = \"우동\"\n",
    "sentence = \"오늘 메뉴는 %s과 %s입니다.\"%(menu1,menu2)\n",
    "sentence"
   ]
  },
  {
   "cell_type": "code",
   "execution_count": 89,
   "id": "bb43c075",
   "metadata": {},
   "outputs": [
    {
     "data": {
      "text/plain": [
       "'오늘 메뉴는 김치볶음밥이고, 가격은 5000원입니다.'"
      ]
     },
     "execution_count": 89,
     "metadata": {},
     "output_type": "execute_result"
    }
   ],
   "source": [
    "menu = \"김치볶음밥\"\n",
    "price = 5000\n",
    "sentence = \"오늘 메뉴는 %s이고, 가격은 %d원입니다.\"%(menu,price)\n",
    "sentence"
   ]
  },
  {
   "cell_type": "code",
   "execution_count": 98,
   "id": "f90d94a7",
   "metadata": {},
   "outputs": [
    {
     "data": {
      "text/plain": [
       "'오늘 메뉴는 김치볶음밥이고, 가격은 5000원입니다.'"
      ]
     },
     "execution_count": 98,
     "metadata": {},
     "output_type": "execute_result"
    }
   ],
   "source": [
    "# format함수를 사용하는 방식 \n",
    "menu = \"김치볶음밥\"\n",
    "price = 5000\n",
    "sentence = \"오늘 메뉴는 {}이고, 가격은 {}원입니다.\".format(menu,price)\n",
    "sentence = \"오늘 메뉴는 {0}이고, 가격은 {1}원입니다.\".format(menu,price)\n",
    "sentence = f\"오늘 메뉴는 {menu}이고, 가격은 {price}원입니다.\"\n",
    "sentence"
   ]
  },
  {
   "cell_type": "markdown",
   "id": "c89eaa2a",
   "metadata": {},
   "source": [
    "- 김치볶음밥은 5000원\n",
    "- 우동은 4000원"
   ]
  },
  {
   "cell_type": "code",
   "execution_count": 104,
   "id": "f5352e93",
   "metadata": {},
   "outputs": [
    {
     "name": "stdout",
     "output_type": "stream",
     "text": [
      "총 가격은 18000원 입니다.\n"
     ]
    }
   ],
   "source": [
    "kimchi_price=5000\n",
    "udon_price=4000\n",
    "num_kimchi=2\n",
    "num_udon=2\n",
    "print(\"총 가격은 {0}원 입니다.\".format(kimchi_price*num_kimchi+udon_price*num_udon))"
   ]
  },
  {
   "cell_type": "code",
   "execution_count": 119,
   "id": "2744717f",
   "metadata": {},
   "outputs": [
    {
     "data": {
      "text/plain": [
       "3"
      ]
     },
     "execution_count": 119,
     "metadata": {},
     "output_type": "execute_result"
    }
   ],
   "source": [
    "song=\"tell me tell me tetetetete tell me\"\n",
    "#횟수 세기\n",
    "song.count(\"tell me\")"
   ]
  },
  {
   "cell_type": "code",
   "execution_count": 111,
   "id": "17cd3ccc",
   "metadata": {},
   "outputs": [
    {
     "data": {
      "text/plain": [
       "5"
      ]
     },
     "execution_count": 111,
     "metadata": {},
     "output_type": "execute_result"
    }
   ],
   "source": [
    "#찾기\n",
    "song.find(\"me\")\n",
    "#찾으면 정수, 없으면 -1로 알려줌"
   ]
  },
  {
   "cell_type": "code",
   "execution_count": 112,
   "id": "076daf4b",
   "metadata": {},
   "outputs": [
    {
     "data": {
      "text/plain": [
       "'TELL ME TELL ME TETETETETE TELL ME'"
      ]
     },
     "execution_count": 112,
     "metadata": {},
     "output_type": "execute_result"
    }
   ],
   "source": [
    "#대문자 치환\n",
    "song.upper()"
   ]
  },
  {
   "cell_type": "code",
   "execution_count": 113,
   "id": "0d1b69a7",
   "metadata": {},
   "outputs": [
    {
     "data": {
      "text/plain": [
       "'tell me tell me tetetetete tell me'"
      ]
     },
     "execution_count": 113,
     "metadata": {},
     "output_type": "execute_result"
    }
   ],
   "source": [
    "#소문자 치환\n",
    "song.lower()"
   ]
  },
  {
   "cell_type": "code",
   "execution_count": 114,
   "id": "30a24f75",
   "metadata": {},
   "outputs": [
    {
     "data": {
      "text/plain": [
       "'Tell Me Tell Me Tetetetete Tell Me'"
      ]
     },
     "execution_count": 114,
     "metadata": {},
     "output_type": "execute_result"
    }
   ],
   "source": [
    "#앞글자만 대문자\n",
    "song.title()"
   ]
  },
  {
   "cell_type": "code",
   "execution_count": 117,
   "id": "09233fb6",
   "metadata": {},
   "outputs": [
    {
     "data": {
      "text/plain": [
       "'tell me tell me tetetetete tell me     '"
      ]
     },
     "execution_count": 117,
     "metadata": {},
     "output_type": "execute_result"
    }
   ],
   "source": [
    "#앞뒤 공백 삭제\n",
    "song.strip()\n",
    "song.rstrip() #오른쪽 공백 삭제\n",
    "song.lstrip() #왼쪽 공백 삭제"
   ]
  },
  {
   "cell_type": "code",
   "execution_count": 128,
   "id": "7b61f096",
   "metadata": {},
   "outputs": [
    {
     "data": {
      "text/plain": [
       "['', 'll me ', 'll me ', '', '', '', '', ' ', 'll me']"
      ]
     },
     "execution_count": 128,
     "metadata": {},
     "output_type": "execute_result"
    }
   ],
   "source": [
    "#자르기\n",
    "song.split(\"te\")"
   ]
  },
  {
   "cell_type": "code",
   "execution_count": 121,
   "id": "0a0f7fce",
   "metadata": {},
   "outputs": [
    {
     "data": {
      "text/plain": [
       "['나는 밥을 먹었다', '맛있었다.']"
      ]
     },
     "execution_count": 121,
     "metadata": {},
     "output_type": "execute_result"
    }
   ],
   "source": [
    "s=\"나는 밥을 먹었다. 맛있었다.\"\n",
    "s.split(\". \")"
   ]
  },
  {
   "cell_type": "code",
   "execution_count": 122,
   "id": "57faa1a7",
   "metadata": {},
   "outputs": [
    {
     "data": {
      "text/plain": [
       "'tell him tell him tetetetete tell him'"
      ]
     },
     "execution_count": 122,
     "metadata": {},
     "output_type": "execute_result"
    }
   ],
   "source": [
    "# 바꾸기\n",
    "song.replace(\"me\",\"him\")"
   ]
  },
  {
   "cell_type": "code",
   "execution_count": 125,
   "id": "c4e29571",
   "metadata": {},
   "outputs": [
    {
     "data": {
      "text/plain": [
       "['tell', 'tell', 'tell']"
      ]
     },
     "execution_count": 125,
     "metadata": {},
     "output_type": "execute_result"
    }
   ],
   "source": [
    "#추후 크롤링에서 설명 예정-참고\n",
    "import re\n",
    "t=re.compile(\"tell\")\n",
    "t.findall(song)"
   ]
  },
  {
   "cell_type": "code",
   "execution_count": 127,
   "id": "71db8f34",
   "metadata": {},
   "outputs": [
    {
     "name": "stdout",
     "output_type": "stream",
     "text": [
      "TELL ME TELL ME TETETETETE TELL ME \n",
      " tell me tell me tetetetete tell me \n",
      " Tell Me Tell Me Tetetetete Tell Me\n"
     ]
    }
   ],
   "source": [
    "print(song.upper(),\"\\n\",song.lower(),\"\\n\",song.title())"
   ]
  },
  {
   "cell_type": "code",
   "execution_count": null,
   "id": "5e8c02c1",
   "metadata": {},
   "outputs": [],
   "source": []
  }
 ],
 "metadata": {
  "kernelspec": {
   "display_name": "Python 3 (ipykernel)",
   "language": "python",
   "name": "python3"
  },
  "language_info": {
   "codemirror_mode": {
    "name": "ipython",
    "version": 3
   },
   "file_extension": ".py",
   "mimetype": "text/x-python",
   "name": "python",
   "nbconvert_exporter": "python",
   "pygments_lexer": "ipython3",
   "version": "3.9.12"
  }
 },
 "nbformat": 4,
 "nbformat_minor": 5
}
